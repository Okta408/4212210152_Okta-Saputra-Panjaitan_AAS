{
  "nbformat": 4,
  "nbformat_minor": 0,
  "metadata": {
    "colab": {
      "provenance": [],
      "include_colab_link": true
    },
    "kernelspec": {
      "name": "python3",
      "display_name": "Python 3"
    },
    "language_info": {
      "name": "python"
    }
  },
  "cells": [
    {
      "cell_type": "markdown",
      "metadata": {
        "id": "view-in-github",
        "colab_type": "text"
      },
      "source": [
        "<a href=\"https://colab.research.google.com/github/Okta408/4212210152_Okta-Saputra-Panjaitan_AAS/blob/main/Another_copy_of_program_fuzzzy.ipynb\" target=\"_parent\"><img src=\"https://colab.research.google.com/assets/colab-badge.svg\" alt=\"Open In Colab\"/></a>"
      ]
    },
    {
      "cell_type": "code",
      "source": [
        "# 1. Import Library\n",
        "# ====================================\n",
        "!pip install scikit-fuzzy openpyxl\n",
        "\n",
        "import pandas as pd\n",
        "import numpy as np\n",
        "import skfuzzy as fuzz\n",
        "from sklearn.preprocessing import LabelEncoder\n",
        "from sklearn.metrics import accuracy_score, classification_report"
      ],
      "metadata": {
        "colab": {
          "base_uri": "https://localhost:8080/"
        },
        "id": "N0_iHgYKVTr2",
        "outputId": "4362b8a4-53cd-4e5d-ad18-8d9c8e22ff07"
      },
      "execution_count": null,
      "outputs": [
        {
          "output_type": "stream",
          "name": "stdout",
          "text": [
            "Collecting scikit-fuzzy\n",
            "  Downloading scikit_fuzzy-0.5.0-py2.py3-none-any.whl.metadata (2.6 kB)\n",
            "Requirement already satisfied: openpyxl in /usr/local/lib/python3.11/dist-packages (3.1.5)\n",
            "Requirement already satisfied: et-xmlfile in /usr/local/lib/python3.11/dist-packages (from openpyxl) (2.0.0)\n",
            "Downloading scikit_fuzzy-0.5.0-py2.py3-none-any.whl (920 kB)\n",
            "\u001b[2K   \u001b[90m━━━━━━━━━━━━━━━━━━━━━━━━━━━━━━━━━━━━━━━━\u001b[0m \u001b[32m920.8/920.8 kB\u001b[0m \u001b[31m16.6 MB/s\u001b[0m eta \u001b[36m0:00:00\u001b[0m\n",
            "\u001b[?25hInstalling collected packages: scikit-fuzzy\n",
            "Successfully installed scikit-fuzzy-0.5.0\n"
          ]
        }
      ]
    },
    {
      "cell_type": "code",
      "source": [
        "# 2. Baca Data\n",
        "# ====================================\n",
        "file_path = '/content/Fish.new.csv'  # Pastikan file di-upload ke Colab\n",
        "df = pd.read_csv(file_path, sep=';') # Added sep=';' to specify the separator\n",
        "\n",
        "# Ambil nilai X, Y, Z dan label aktivitas\n",
        "w_vals = df['Width'].values\n",
        "x_vals = df['Weight'].values\n",
        "y_vals = df['Length1'].values\n",
        "z_vals = df['Height'].values\n",
        "labels = df['Species'].values\n",
        "\n"
      ],
      "metadata": {
        "id": "ruXM_A9QVZQj"
      },
      "execution_count": null,
      "outputs": []
    },
    {
      "cell_type": "code",
      "source": [
        "# 3. Encode Label\n",
        "# ====================================\n",
        "label_encoder = LabelEncoder()\n",
        "encoded_labels = label_encoder.fit_transform(labels)\n",
        "unique_labels = np.unique(encoded_labels)[:3]  # Gunakan 3 label pertama\n",
        "\n",
        "# ===================================="
      ],
      "metadata": {
        "id": "byVepZmOVaDQ"
      },
      "execution_count": null,
      "outputs": []
    },
    {
      "cell_type": "code",
      "source": [
        "# 4. Tentukan Range Fuzzy Tiap Label\n",
        "# ====================================\n",
        "def get_ranges(label_id):\n",
        "    idx = encoded_labels == label_id\n",
        "    x_min, x_max = x_vals[idx].min(), x_vals[idx].max()\n",
        "    y_min, y_max = y_vals[idx].min(), y_vals[idx].max()\n",
        "    z_min, z_max = z_vals[idx].min(), z_vals[idx].max()\n",
        "    return {\n",
        "        \"x\": (x_min, (x_min + x_max) / 2, x_max),\n",
        "        \"y\": (y_min, (y_min + y_max) / 2, y_max),\n",
        "        \"z\": (z_min, (z_min + z_max) / 2, z_max)\n",
        "    }\n",
        "\n",
        "label_ranges = {label: get_ranges(label) for label in unique_labels}\n",
        "\n",
        "# ===================================="
      ],
      "metadata": {
        "id": "8Ys4z8SzVenY"
      },
      "execution_count": null,
      "outputs": []
    },
    {
      "cell_type": "code",
      "source": [
        "# 5. Fuzzifikasi (TRIMF)\n",
        "# ====================================\n",
        "def trimf(x, a, b, c):\n",
        "    return np.maximum(np.minimum((x - a)/(b - a), (c - x)/(c - b)), 0)\n",
        "\n",
        "fuzzified = {}\n",
        "for label in unique_labels:\n",
        "    r = label_ranges[label]\n",
        "    fuzzified[f\"x_label{label}\"] = trimf(x_vals, *r[\"x\"])\n",
        "    fuzzified[f\"y_label{label}\"] = trimf(y_vals, *r[\"y\"])\n",
        "    fuzzified[f\"z_label{label}\"] = trimf(z_vals, *r[\"z\"])\n",
        "\n",
        "fuzzified_df = pd.DataFrame(fuzzified)\n",
        "\n",
        "# ===================================="
      ],
      "metadata": {
        "id": "mMherwTqVg-R"
      },
      "execution_count": null,
      "outputs": []
    },
    {
      "cell_type": "code",
      "source": [
        "# 6. Inferensi Mamdani (MIN)\n",
        "# ====================================\n",
        "rules = []\n",
        "for label in unique_labels:\n",
        "    rule = np.fmin(np.fmin(\n",
        "        fuzzified_df[f\"x_label{label}\"],\n",
        "        fuzzified_df[f\"y_label{label}\"]),\n",
        "        fuzzified_df[f\"z_label{label}\"]\n",
        "    )\n",
        "    rules.append(rule)\n",
        "\n",
        "# ===================================="
      ],
      "metadata": {
        "id": "a6Q96DW5VjQt"
      },
      "execution_count": null,
      "outputs": []
    },
    {
      "cell_type": "code",
      "source": [
        "# 7. Agregasi dan Defuzzifikasi\n",
        "# ====================================\n",
        "rules = np.array(rules)\n",
        "total = rules.sum(axis=0)\n",
        "total[total == 0] = 1e-6  # Hindari pembagian nol\n",
        "\n",
        "crisp_output = np.dot(unique_labels, rules) / total\n",
        "predicted_labels = np.round(crisp_output).astype(int)\n",
        "\n",
        "# ===================================="
      ],
      "metadata": {
        "id": "z081X8WJVlGs"
      },
      "execution_count": null,
      "outputs": []
    },
    {
      "cell_type": "code",
      "source": [
        "# 8. Gabungkan Hasil\n",
        "# ====================================\n",
        "hasil_akhir = df.copy()\n",
        "hasil_akhir[\"prediksi_label\"] = predicted_labels\n",
        "hasil_akhir[\"prediksi_kategori\"] = label_encoder.inverse_transform(predicted_labels)\n",
        "\n",
        "# ===================================="
      ],
      "metadata": {
        "id": "8F1VvivdVm1w"
      },
      "execution_count": null,
      "outputs": []
    },
    {
      "cell_type": "code",
      "source": [
        "# 9. Evaluasi Akurasi\n",
        "# ====================================\n",
        "print(\"Akurasi:\", accuracy_score(encoded_labels, predicted_labels))\n",
        "print(classification_report(encoded_labels, predicted_labels, target_names=label_encoder.classes_))\n",
        "\n",
        "# Simpan hasil\n",
        "hasil_akhir.to_excel(\"hasil_fuzzy_mamdani.xlsx\", index=False)"
      ],
      "metadata": {
        "colab": {
          "base_uri": "https://localhost:8080/"
        },
        "id": "1gXrb8ruVoog",
        "outputId": "46591a9c-6d51-4469-867d-7d99392e0435"
      },
      "execution_count": null,
      "outputs": [
        {
          "output_type": "stream",
          "name": "stdout",
          "text": [
            "Akurasi: 0.578125\n",
            "              precision    recall  f1-score   support\n",
            "\n",
            "       Bream       0.64      0.66      0.65        35\n",
            "       Perch       0.54      0.80      0.64        56\n",
            "        Pike       0.75      0.35      0.48        17\n",
            "       Roach       0.00      0.00      0.00        20\n",
            "\n",
            "    accuracy                           0.58       128\n",
            "   macro avg       0.48      0.45      0.44       128\n",
            "weighted avg       0.51      0.58      0.52       128\n",
            "\n"
          ]
        },
        {
          "output_type": "stream",
          "name": "stderr",
          "text": [
            "/usr/local/lib/python3.11/dist-packages/sklearn/metrics/_classification.py:1565: UndefinedMetricWarning: Precision is ill-defined and being set to 0.0 in labels with no predicted samples. Use `zero_division` parameter to control this behavior.\n",
            "  _warn_prf(average, modifier, f\"{metric.capitalize()} is\", len(result))\n",
            "/usr/local/lib/python3.11/dist-packages/sklearn/metrics/_classification.py:1565: UndefinedMetricWarning: Precision is ill-defined and being set to 0.0 in labels with no predicted samples. Use `zero_division` parameter to control this behavior.\n",
            "  _warn_prf(average, modifier, f\"{metric.capitalize()} is\", len(result))\n",
            "/usr/local/lib/python3.11/dist-packages/sklearn/metrics/_classification.py:1565: UndefinedMetricWarning: Precision is ill-defined and being set to 0.0 in labels with no predicted samples. Use `zero_division` parameter to control this behavior.\n",
            "  _warn_prf(average, modifier, f\"{metric.capitalize()} is\", len(result))\n"
          ]
        }
      ]
    }
  ]
}